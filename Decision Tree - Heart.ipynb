{
 "cells": [
  {
   "cell_type": "code",
   "execution_count": 1,
   "metadata": {},
   "outputs": [],
   "source": [
    "import numpy as np\n",
    "import pandas as pd\n",
    "import matplotlib.pyplot as plt\n",
    "import seaborn as sns\n",
    "%matplotlib inline\n",
    "import random\n",
    "from pprint import pprint\n",
    "import ipywidgets as widgets\n",
    "from IPython.display import display"
   ]
  },
  {
   "cell_type": "code",
   "execution_count": 2,
   "metadata": {},
   "outputs": [],
   "source": [
    "df= pd.read_csv('/Users/DELL/Desktop/Sem 6/Python/heart.csv')\n",
    "\n"
   ]
  },
  {
   "cell_type": "code",
   "execution_count": 3,
   "metadata": {},
   "outputs": [],
   "source": [
    "df.head()\n",
    "df[\"label\"] = df.target\n",
    "df = df.drop([\"target\"],axis=1)\n",
    "\n"
   ]
  },
  {
   "cell_type": "code",
   "execution_count": 4,
   "metadata": {},
   "outputs": [
    {
     "data": {
      "text/html": [
       "<div>\n",
       "<style scoped>\n",
       "    .dataframe tbody tr th:only-of-type {\n",
       "        vertical-align: middle;\n",
       "    }\n",
       "\n",
       "    .dataframe tbody tr th {\n",
       "        vertical-align: top;\n",
       "    }\n",
       "\n",
       "    .dataframe thead th {\n",
       "        text-align: right;\n",
       "    }\n",
       "</style>\n",
       "<table border=\"1\" class=\"dataframe\">\n",
       "  <thead>\n",
       "    <tr style=\"text-align: right;\">\n",
       "      <th></th>\n",
       "      <th>age</th>\n",
       "      <th>sex</th>\n",
       "      <th>cp</th>\n",
       "      <th>trestbps</th>\n",
       "      <th>chol</th>\n",
       "      <th>fbs</th>\n",
       "      <th>restecg</th>\n",
       "      <th>thalach</th>\n",
       "      <th>exang</th>\n",
       "      <th>oldpeak</th>\n",
       "      <th>slope</th>\n",
       "      <th>ca</th>\n",
       "      <th>thal</th>\n",
       "      <th>label</th>\n",
       "    </tr>\n",
       "  </thead>\n",
       "  <tbody>\n",
       "    <tr>\n",
       "      <th>0</th>\n",
       "      <td>63</td>\n",
       "      <td>1</td>\n",
       "      <td>3</td>\n",
       "      <td>145</td>\n",
       "      <td>233</td>\n",
       "      <td>1</td>\n",
       "      <td>0</td>\n",
       "      <td>150</td>\n",
       "      <td>0</td>\n",
       "      <td>2.3</td>\n",
       "      <td>0</td>\n",
       "      <td>0</td>\n",
       "      <td>1</td>\n",
       "      <td>1</td>\n",
       "    </tr>\n",
       "    <tr>\n",
       "      <th>1</th>\n",
       "      <td>37</td>\n",
       "      <td>1</td>\n",
       "      <td>2</td>\n",
       "      <td>130</td>\n",
       "      <td>250</td>\n",
       "      <td>0</td>\n",
       "      <td>1</td>\n",
       "      <td>187</td>\n",
       "      <td>0</td>\n",
       "      <td>3.5</td>\n",
       "      <td>0</td>\n",
       "      <td>0</td>\n",
       "      <td>2</td>\n",
       "      <td>1</td>\n",
       "    </tr>\n",
       "    <tr>\n",
       "      <th>2</th>\n",
       "      <td>41</td>\n",
       "      <td>0</td>\n",
       "      <td>1</td>\n",
       "      <td>130</td>\n",
       "      <td>204</td>\n",
       "      <td>0</td>\n",
       "      <td>0</td>\n",
       "      <td>172</td>\n",
       "      <td>0</td>\n",
       "      <td>1.4</td>\n",
       "      <td>2</td>\n",
       "      <td>0</td>\n",
       "      <td>2</td>\n",
       "      <td>1</td>\n",
       "    </tr>\n",
       "    <tr>\n",
       "      <th>3</th>\n",
       "      <td>56</td>\n",
       "      <td>1</td>\n",
       "      <td>1</td>\n",
       "      <td>120</td>\n",
       "      <td>236</td>\n",
       "      <td>0</td>\n",
       "      <td>1</td>\n",
       "      <td>178</td>\n",
       "      <td>0</td>\n",
       "      <td>0.8</td>\n",
       "      <td>2</td>\n",
       "      <td>0</td>\n",
       "      <td>2</td>\n",
       "      <td>1</td>\n",
       "    </tr>\n",
       "    <tr>\n",
       "      <th>4</th>\n",
       "      <td>57</td>\n",
       "      <td>0</td>\n",
       "      <td>0</td>\n",
       "      <td>120</td>\n",
       "      <td>354</td>\n",
       "      <td>0</td>\n",
       "      <td>1</td>\n",
       "      <td>163</td>\n",
       "      <td>1</td>\n",
       "      <td>0.6</td>\n",
       "      <td>2</td>\n",
       "      <td>0</td>\n",
       "      <td>2</td>\n",
       "      <td>1</td>\n",
       "    </tr>\n",
       "  </tbody>\n",
       "</table>\n",
       "</div>"
      ],
      "text/plain": [
       "   age  sex  cp  trestbps  chol  fbs  restecg  thalach  exang  oldpeak  slope  \\\n",
       "0   63    1   3       145   233    1        0      150      0      2.3      0   \n",
       "1   37    1   2       130   250    0        1      187      0      3.5      0   \n",
       "2   41    0   1       130   204    0        0      172      0      1.4      2   \n",
       "3   56    1   1       120   236    0        1      178      0      0.8      2   \n",
       "4   57    0   0       120   354    0        1      163      1      0.6      2   \n",
       "\n",
       "   ca  thal  label  \n",
       "0   0     1      1  \n",
       "1   0     2      1  \n",
       "2   0     2      1  \n",
       "3   0     2      1  \n",
       "4   0     2      1  "
      ]
     },
     "execution_count": 4,
     "metadata": {},
     "output_type": "execute_result"
    }
   ],
   "source": [
    "df.head()"
   ]
  },
  {
   "cell_type": "code",
   "execution_count": 5,
   "metadata": {},
   "outputs": [],
   "source": [
    "def train_test_split(df,test_size):\n",
    "    if isinstance(test_size,float):\n",
    "        test_size=round(test_size*len(df))\n",
    "    indices= df.index.tolist()\n",
    "    test_indices=random.sample(population=indices, k=test_size)\n",
    "    \n",
    "    test_df=df.loc[test_indices]\n",
    "    train_df= df.drop(test_indices)\n",
    "    return train_df,test_df\n"
   ]
  },
  {
   "cell_type": "code",
   "execution_count": 6,
   "metadata": {},
   "outputs": [],
   "source": [
    "def determine_type_of_feature(df):\n",
    "    \n",
    "    feature_types=[]\n",
    "    n_unique_values_threshold = 5\n",
    "    \n",
    "    for column in df.columns:\n",
    "        unique_values = df[column].unique()\n",
    "        example_value = unique_values[0]\n",
    "        \n",
    "        if (isinstance(example_value, str)) or (len(unique_values)<= n_unique_values_threshold):\n",
    "           feature_types.append(\"categorical\")\n",
    "        else:\n",
    "           feature_types.append(\"continuous\")\n",
    "    \n",
    "    return feature_types"
   ]
  },
  {
   "cell_type": "code",
   "execution_count": 8,
   "metadata": {},
   "outputs": [
    {
     "name": "stdout",
     "output_type": "stream",
     "text": [
      "age - continuous\n",
      "sex - categorical\n",
      "cp - categorical\n",
      "trestbps - continuous\n",
      "chol - continuous\n",
      "fbs - categorical\n",
      "restecg - categorical\n",
      "thalach - continuous\n",
      "exang - categorical\n",
      "oldpeak - continuous\n",
      "slope - categorical\n",
      "ca - categorical\n",
      "thal - categorical\n",
      "label - categorical\n"
     ]
    }
   ],
   "source": [
    "feature_types = determine_type_of_feature(df)\n",
    "i=0\n",
    "for column in df.columns:\n",
    "    print(column,\"-\", feature_types[i])\n",
    "    i=i+1"
   ]
  },
  {
   "cell_type": "code",
   "execution_count": 9,
   "metadata": {},
   "outputs": [],
   "source": [
    "def check_purity(data):\n",
    "    label_column = data[:,-1]\n",
    "    unique_classes = np.unique(label_column)\n",
    "    if len(unique_classes)==1: #only one class is there\n",
    "        return True\n",
    "    else:\n",
    "        return False"
   ]
  },
  {
   "cell_type": "code",
   "execution_count": 10,
   "metadata": {},
   "outputs": [],
   "source": [
    "#the class appearing the most\n",
    "def classify_data(data):\n",
    "    label_column = data[:,-1]\n",
    "    unique_classes, counts_unique_classes = np.unique(label_column,return_counts=True) #if true return number of times each unique item appears in array\n",
    "    index = counts_unique_classes.argmax()\n",
    "    classification = unique_classes[index]\n",
    "    return classification\n",
    "    "
   ]
  },
  {
   "cell_type": "code",
   "execution_count": 11,
   "metadata": {},
   "outputs": [],
   "source": [
    "def get_potential_splits(data):\n",
    "    \n",
    "    potential_splits={}\n",
    "    _, n_columns = data.shape\n",
    "    \n",
    "    for column_index in range(n_columns-1):\n",
    "        \n",
    "        \n",
    "        potential_splits[column_index]=[]\n",
    "        values = data[:,column_index]\n",
    "        unique_values = np.unique(values)\n",
    "        \n",
    "        type_of_feature = feature_types[column_index]\n",
    "        if type_of_feature == \"continuous\":\n",
    "            for index in range(len(unique_values)):\n",
    "                if index!=0:\n",
    "                    current_value = unique_values[index]\n",
    "                    previous_value = unique_values[index-1]\n",
    "                    potential_split = (current_value + previous_value)/2\n",
    "                    potential_splits[column_index].append(potential_split)\n",
    "        else:\n",
    "            potential_splits[column_index] = unique_values\n",
    "    \n",
    "    return potential_splits"
   ]
  },
  {
   "cell_type": "code",
   "execution_count": 12,
   "metadata": {},
   "outputs": [],
   "source": [
    "def split_data(data, split_column, split_value):\n",
    "    \n",
    "    split_column_values=data[:,split_column]\n",
    "    type_of_feature = feature_types[split_column]\n",
    "    if type_of_feature == \"continuous\":\n",
    "        data_below = data[split_column_values <= split_value]\n",
    "        data_above = data[split_column_values > split_value]\n",
    "    else:\n",
    "        data_below = data[split_column_values == split_value]\n",
    "        data_above = data[split_column_values != split_value]\n",
    "        \n",
    "    return data_below, data_above"
   ]
  },
  {
   "cell_type": "code",
   "execution_count": 13,
   "metadata": {},
   "outputs": [],
   "source": [
    "def calculate_entropy(data):\n",
    "    \n",
    "    label_column = data[:,-1]\n",
    "    _,counts = np.unique(label_column, return_counts = True)\n",
    "    probabilities = counts/counts.sum()\n",
    "    entropy = sum(probabilities*(-np.log2(probabilities)))\n",
    "    \n",
    "    return entropy"
   ]
  },
  {
   "cell_type": "code",
   "execution_count": 14,
   "metadata": {},
   "outputs": [],
   "source": [
    "def calculate_overall_entropy(data_below, data_above):\n",
    "    \n",
    "    n_data_points = len(data_below) + len(data_above)\n",
    "    p_data_below = len(data_below) / n_data_points\n",
    "    p_data_above = len(data_above) / n_data_points\n",
    "    \n",
    "    overall_entropy = (p_data_below * calculate_entropy(data_below) + p_data_above*calculate_entropy(data_above))\n",
    "    \n",
    "    return overall_entropy\n"
   ]
  },
  {
   "cell_type": "code",
   "execution_count": 15,
   "metadata": {},
   "outputs": [],
   "source": [
    "def best_fit(data, potential_splits):\n",
    "    \n",
    "    overall_entropy = 999\n",
    "    for column_index in potential_splits:\n",
    "        for value in potential_splits[column_index]:\n",
    "            data_below, data_above = split_data(data, split_column=column_index, split_value=value)\n",
    "            current_overall_entropy = calculate_overall_entropy(data_below,data_above)\n",
    "            \n",
    "            if current_overall_entropy <= overall_entropy:\n",
    "                overall_entropy = current_overall_entropy\n",
    "                best_split_column = column_index\n",
    "                best_split_value = value\n",
    "                \n",
    "    return best_split_column, best_split_value"
   ]
  },
  {
   "cell_type": "code",
   "execution_count": 16,
   "metadata": {},
   "outputs": [],
   "source": [
    "def decision_tree_algorithm(df, counter=0,min_samples=20, max_depth=20 ):\n",
    "    \n",
    "    if counter==0:\n",
    "        global column_header, feature_types\n",
    "        data=df.values\n",
    "        column_header = df.columns\n",
    "        feature_types = determine_type_of_feature(df)\n",
    "    else:\n",
    "        data = df\n",
    "    \n",
    "    if check_purity(data) or (len(data)< min_samples) or (counter==max_depth):\n",
    "        classification = classify_data(data)\n",
    "        return classification\n",
    "    \n",
    "    else:\n",
    "        counter+=1\n",
    "        \n",
    "        potential_splits = get_potential_splits(data)\n",
    "        split_column, split_value = best_fit(data, potential_splits)\n",
    "        data_below, data_above = split_data(data, split_column, split_value)\n",
    "        \n",
    "        feature_name = column_header[split_column]\n",
    "        type_of_feature = feature_types[split_column]\n",
    "        if type_of_feature == \"continuous\":\n",
    "            question = \"{} <= {}\".format(feature_name, split_value)\n",
    "        else:\n",
    "            question = \"{} = {}\".format(feature_name, split_value)   \n",
    "        sub_tree = {question:[]}\n",
    "        \n",
    "        yes_answer = decision_tree_algorithm(data_below, counter, min_samples,max_depth)\n",
    "        no_answer = decision_tree_algorithm(data_above, counter, min_samples,max_depth)\n",
    "        \n",
    "        if yes_answer == no_answer:\n",
    "            sub_tree = no_answer\n",
    "        else:\n",
    "            sub_tree[question].append(yes_answer)\n",
    "            sub_tree[question].append(no_answer)\n",
    "            \n",
    "        return sub_tree\n",
    "\n",
    "    "
   ]
  },
  {
   "cell_type": "code",
   "execution_count": 17,
   "metadata": {},
   "outputs": [
    {
     "data": {
      "text/html": [
       "<div>\n",
       "<style scoped>\n",
       "    .dataframe tbody tr th:only-of-type {\n",
       "        vertical-align: middle;\n",
       "    }\n",
       "\n",
       "    .dataframe tbody tr th {\n",
       "        vertical-align: top;\n",
       "    }\n",
       "\n",
       "    .dataframe thead th {\n",
       "        text-align: right;\n",
       "    }\n",
       "</style>\n",
       "<table border=\"1\" class=\"dataframe\">\n",
       "  <thead>\n",
       "    <tr style=\"text-align: right;\">\n",
       "      <th></th>\n",
       "      <th>age</th>\n",
       "      <th>sex</th>\n",
       "      <th>cp</th>\n",
       "      <th>trestbps</th>\n",
       "      <th>chol</th>\n",
       "      <th>fbs</th>\n",
       "      <th>restecg</th>\n",
       "      <th>thalach</th>\n",
       "      <th>exang</th>\n",
       "      <th>oldpeak</th>\n",
       "      <th>slope</th>\n",
       "      <th>ca</th>\n",
       "      <th>thal</th>\n",
       "      <th>label</th>\n",
       "    </tr>\n",
       "  </thead>\n",
       "  <tbody>\n",
       "    <tr>\n",
       "      <th>0</th>\n",
       "      <td>63</td>\n",
       "      <td>1</td>\n",
       "      <td>3</td>\n",
       "      <td>145</td>\n",
       "      <td>233</td>\n",
       "      <td>1</td>\n",
       "      <td>0</td>\n",
       "      <td>150</td>\n",
       "      <td>0</td>\n",
       "      <td>2.3</td>\n",
       "      <td>0</td>\n",
       "      <td>0</td>\n",
       "      <td>1</td>\n",
       "      <td>1</td>\n",
       "    </tr>\n",
       "    <tr>\n",
       "      <th>1</th>\n",
       "      <td>37</td>\n",
       "      <td>1</td>\n",
       "      <td>2</td>\n",
       "      <td>130</td>\n",
       "      <td>250</td>\n",
       "      <td>0</td>\n",
       "      <td>1</td>\n",
       "      <td>187</td>\n",
       "      <td>0</td>\n",
       "      <td>3.5</td>\n",
       "      <td>0</td>\n",
       "      <td>0</td>\n",
       "      <td>2</td>\n",
       "      <td>1</td>\n",
       "    </tr>\n",
       "    <tr>\n",
       "      <th>2</th>\n",
       "      <td>41</td>\n",
       "      <td>0</td>\n",
       "      <td>1</td>\n",
       "      <td>130</td>\n",
       "      <td>204</td>\n",
       "      <td>0</td>\n",
       "      <td>0</td>\n",
       "      <td>172</td>\n",
       "      <td>0</td>\n",
       "      <td>1.4</td>\n",
       "      <td>2</td>\n",
       "      <td>0</td>\n",
       "      <td>2</td>\n",
       "      <td>1</td>\n",
       "    </tr>\n",
       "    <tr>\n",
       "      <th>3</th>\n",
       "      <td>56</td>\n",
       "      <td>1</td>\n",
       "      <td>1</td>\n",
       "      <td>120</td>\n",
       "      <td>236</td>\n",
       "      <td>0</td>\n",
       "      <td>1</td>\n",
       "      <td>178</td>\n",
       "      <td>0</td>\n",
       "      <td>0.8</td>\n",
       "      <td>2</td>\n",
       "      <td>0</td>\n",
       "      <td>2</td>\n",
       "      <td>1</td>\n",
       "    </tr>\n",
       "    <tr>\n",
       "      <th>4</th>\n",
       "      <td>57</td>\n",
       "      <td>0</td>\n",
       "      <td>0</td>\n",
       "      <td>120</td>\n",
       "      <td>354</td>\n",
       "      <td>0</td>\n",
       "      <td>1</td>\n",
       "      <td>163</td>\n",
       "      <td>1</td>\n",
       "      <td>0.6</td>\n",
       "      <td>2</td>\n",
       "      <td>0</td>\n",
       "      <td>2</td>\n",
       "      <td>1</td>\n",
       "    </tr>\n",
       "  </tbody>\n",
       "</table>\n",
       "</div>"
      ],
      "text/plain": [
       "   age  sex  cp  trestbps  chol  fbs  restecg  thalach  exang  oldpeak  slope  \\\n",
       "0   63    1   3       145   233    1        0      150      0      2.3      0   \n",
       "1   37    1   2       130   250    0        1      187      0      3.5      0   \n",
       "2   41    0   1       130   204    0        0      172      0      1.4      2   \n",
       "3   56    1   1       120   236    0        1      178      0      0.8      2   \n",
       "4   57    0   0       120   354    0        1      163      1      0.6      2   \n",
       "\n",
       "   ca  thal  label  \n",
       "0   0     1      1  \n",
       "1   0     2      1  \n",
       "2   0     2      1  \n",
       "3   0     2      1  \n",
       "4   0     2      1  "
      ]
     },
     "execution_count": 17,
     "metadata": {},
     "output_type": "execute_result"
    }
   ],
   "source": [
    "df.head()"
   ]
  },
  {
   "cell_type": "code",
   "execution_count": null,
   "metadata": {},
   "outputs": [],
   "source": []
  },
  {
   "cell_type": "code",
   "execution_count": 18,
   "metadata": {},
   "outputs": [],
   "source": [
    "def classify_example(example,tree):\n",
    "    \n",
    "    question = list(tree.keys())[0]\n",
    "    feature_name, comparision_operator, value = question.split(\" \")\n",
    "    \n",
    "    if comparision_operator == \"<=\":\n",
    "        if example[feature_name]<= float(value):\n",
    "            answer = tree[question][0]\n",
    "        else:\n",
    "            answer = tree[question][1]\n",
    "    else:\n",
    "        if str(example[feature_name]) == value:\n",
    "            answer = tree[question][0]\n",
    "        else:\n",
    "            answer = tree[question][1]\n",
    "        \n",
    "    if not isinstance(answer, dict):\n",
    "        return answer\n",
    "    else:\n",
    "        residual_tree=answer\n",
    "        return classify_example(example, residual_tree)\n",
    "    "
   ]
  },
  {
   "cell_type": "code",
   "execution_count": 19,
   "metadata": {},
   "outputs": [],
   "source": [
    "def calculate_accuracy(df, tree):\n",
    "    \n",
    "    df[\"classification\"] = df.apply(classify_example, axis=1, args=(tree,))\n",
    "    df[\"classification_correct\"]=df. classification == df.label\n",
    "    \n",
    "    accuracy = df.classification_correct.mean()\n",
    "    \n",
    "    return accuracy"
   ]
  },
  {
   "cell_type": "code",
   "execution_count": 20,
   "metadata": {},
   "outputs": [
    {
     "name": "stdout",
     "output_type": "stream",
     "text": [
      "0.0\n",
      "0.8666666666666667\n",
      "{'thal = 2.0': [{'ca = 0.0': [{'thalach <= 160.5': [{'oldpeak <= 3.2': [{'age <= 57.0': [1.0,\n",
      "                                                                                         {'thalach <= 157.5': [{'oldpeak <= 2.8': [1.0,\n",
      "                                                                                                                                   0.0]},\n",
      "                                                                                                               0.0]}]},\n",
      "                                                                        0.0]},\n",
      "                                                    1.0]},\n",
      "                              {'cp = 0.0': [0.0, 1.0]}]},\n",
      "                {'cp = 0.0': [{'oldpeak <= 0.55': [{'chol <= 237.5': [1.0,\n",
      "                                                                      0.0]},\n",
      "                                                   0.0]},\n",
      "                              {'slope = 1.0': [0.0, 1.0]}]}]}\n"
     ]
    }
   ],
   "source": [
    "train_df, test_df = train_test_split(df, test_size = 0.1)\n",
    "tree = decision_tree_algorithm(train_df, max_depth=10)\n",
    "example = df.iloc[180]\n",
    "accuracy = calculate_accuracy(test_df, tree)\n",
    "answer=classify_example(example,tree)\n",
    "print(answer)\n",
    "print(accuracy)\n",
    "pprint(tree)"
   ]
  },
  {
   "cell_type": "code",
   "execution_count": 22,
   "metadata": {
    "scrolled": true
   },
   "outputs": [
    {
     "name": "stdout",
     "output_type": "stream",
     "text": [
      "\n",
      "\n",
      "\n",
      "\n",
      "\n",
      "\n"
     ]
    },
    {
     "data": {
      "text/plain": [
       "'Age:'"
      ]
     },
     "metadata": {},
     "output_type": "display_data"
    },
    {
     "data": {
      "application/vnd.jupyter.widget-view+json": {
       "model_id": "cec7bb6f564148fe9a7b797546017fe1",
       "version_major": 2,
       "version_minor": 0
      },
      "text/plain": [
       "IntSlider(value=1, min=1)"
      ]
     },
     "metadata": {},
     "output_type": "display_data"
    },
    {
     "data": {
      "text/plain": [
       "'Gender'"
      ]
     },
     "metadata": {},
     "output_type": "display_data"
    },
    {
     "data": {
      "application/vnd.jupyter.widget-view+json": {
       "model_id": "e227d18887cb4c6a9274f4d38d8c4131",
       "version_major": 2,
       "version_minor": 0
      },
      "text/plain": [
       "Dropdown(options=('Male', 'Female'), value='Male')"
      ]
     },
     "metadata": {},
     "output_type": "display_data"
    },
    {
     "data": {
      "text/plain": [
       "'Chest pain type:'"
      ]
     },
     "metadata": {},
     "output_type": "display_data"
    },
    {
     "data": {
      "application/vnd.jupyter.widget-view+json": {
       "model_id": "be178f9818414e6f8f68dc4541ee127a",
       "version_major": 2,
       "version_minor": 0
      },
      "text/plain": [
       "RadioButtons(options=('Typical angina', 'Atypical angina', 'Non-angina pain', 'Asymptomatic'), value='Typical …"
      ]
     },
     "metadata": {},
     "output_type": "display_data"
    },
    {
     "data": {
      "text/plain": [
       "'Resting blood pressure (in mm Hg):'"
      ]
     },
     "metadata": {},
     "output_type": "display_data"
    },
    {
     "data": {
      "application/vnd.jupyter.widget-view+json": {
       "model_id": "a7573610ff7f4d0994f9d208e933ef90",
       "version_major": 2,
       "version_minor": 0
      },
      "text/plain": [
       "FloatText(value=125.8)"
      ]
     },
     "metadata": {},
     "output_type": "display_data"
    },
    {
     "data": {
      "text/plain": [
       "'Serum cholestoral (in mg/dl):'"
      ]
     },
     "metadata": {},
     "output_type": "display_data"
    },
    {
     "data": {
      "application/vnd.jupyter.widget-view+json": {
       "model_id": "e85b59636def4173b54030cca5a9766a",
       "version_major": 2,
       "version_minor": 0
      },
      "text/plain": [
       "FloatText(value=213.6)"
      ]
     },
     "metadata": {},
     "output_type": "display_data"
    },
    {
     "data": {
      "text/plain": [
       "'Fasting blood sugar > 120 (in mg/dl):'"
      ]
     },
     "metadata": {},
     "output_type": "display_data"
    },
    {
     "data": {
      "application/vnd.jupyter.widget-view+json": {
       "model_id": "86e5821b5e844df58044543bbc6ec187",
       "version_major": 2,
       "version_minor": 0
      },
      "text/plain": [
       "Select(index=1, options=('Yes', 'No'), rows=2, value='No')"
      ]
     },
     "metadata": {},
     "output_type": "display_data"
    },
    {
     "data": {
      "text/plain": [
       "'Maximum heart rate achieved:'"
      ]
     },
     "metadata": {},
     "output_type": "display_data"
    },
    {
     "data": {
      "application/vnd.jupyter.widget-view+json": {
       "model_id": "8498cacb8c744e548346715d0cc6ef0b",
       "version_major": 2,
       "version_minor": 0
      },
      "text/plain": [
       "FloatText(value=150.0)"
      ]
     },
     "metadata": {},
     "output_type": "display_data"
    },
    {
     "data": {
      "text/plain": [
       "'Resting ECG results'"
      ]
     },
     "metadata": {},
     "output_type": "display_data"
    },
    {
     "data": {
      "application/vnd.jupyter.widget-view+json": {
       "model_id": "4734f0a591454533b4aa9e315ca5df17",
       "version_major": 2,
       "version_minor": 0
      },
      "text/plain": [
       "Dropdown(options=('Normal', 'Having ST-T wave abnormality', 'Showing probable or definite left ventricular hyp…"
      ]
     },
     "metadata": {},
     "output_type": "display_data"
    },
    {
     "data": {
      "text/plain": [
       "'Exercise induced angina :'"
      ]
     },
     "metadata": {},
     "output_type": "display_data"
    },
    {
     "data": {
      "application/vnd.jupyter.widget-view+json": {
       "model_id": "8a72b8e1873743bba43d3b7dceb1db64",
       "version_major": 2,
       "version_minor": 0
      },
      "text/plain": [
       "Select(index=1, options=('Yes', 'No'), rows=2, value='No')"
      ]
     },
     "metadata": {},
     "output_type": "display_data"
    },
    {
     "data": {
      "text/plain": [
       "'ST depression induced by exercise relative to rest(in mm):'"
      ]
     },
     "metadata": {},
     "output_type": "display_data"
    },
    {
     "data": {
      "application/vnd.jupyter.widget-view+json": {
       "model_id": "603f4ee08259478da286232007b3ede8",
       "version_major": 2,
       "version_minor": 0
      },
      "text/plain": [
       "FloatText(value=0.62)"
      ]
     },
     "metadata": {},
     "output_type": "display_data"
    },
    {
     "data": {
      "text/plain": [
       "'Slope of the peak exercise ST segment:'"
      ]
     },
     "metadata": {},
     "output_type": "display_data"
    },
    {
     "data": {
      "application/vnd.jupyter.widget-view+json": {
       "model_id": "2a1c09d41e924f9ab080e065b04ecfe2",
       "version_major": 2,
       "version_minor": 0
      },
      "text/plain": [
       "RadioButtons(options=('Up', 'Flat', 'Down'), value='Up')"
      ]
     },
     "metadata": {},
     "output_type": "display_data"
    },
    {
     "data": {
      "text/plain": [
       "'Number of major vessels colored by Flourosopy'"
      ]
     },
     "metadata": {},
     "output_type": "display_data"
    },
    {
     "data": {
      "application/vnd.jupyter.widget-view+json": {
       "model_id": "a5ae6978bdbc4014936f0eda7e15ea81",
       "version_major": 2,
       "version_minor": 0
      },
      "text/plain": [
       "Dropdown(options=(0, 1, 2, 3), value=0)"
      ]
     },
     "metadata": {},
     "output_type": "display_data"
    },
    {
     "data": {
      "text/plain": [
       "'Thalassemia:'"
      ]
     },
     "metadata": {},
     "output_type": "display_data"
    },
    {
     "data": {
      "application/vnd.jupyter.widget-view+json": {
       "model_id": "4a0c422cabe542318c06ee328eef0f37",
       "version_major": 2,
       "version_minor": 0
      },
      "text/plain": [
       "Select(options=('Normal', 'Fixed defect', 'Reversible defect'), rows=3, value='Normal')"
      ]
     },
     "metadata": {},
     "output_type": "display_data"
    },
    {
     "data": {
      "application/vnd.jupyter.widget-view+json": {
       "model_id": "33b6434f34654f7f9b428d0106d8ed83",
       "version_major": 2,
       "version_minor": 0
      },
      "text/plain": [
       "Button(button_style='info', description='Submit', icon='check', style=ButtonStyle(), tooltip='Submit details')"
      ]
     },
     "metadata": {},
     "output_type": "display_data"
    },
    {
     "name": "stdout",
     "output_type": "stream",
     "text": [
      "Risk of heart disease\n"
     ]
    }
   ],
   "source": [
    "import ipywidgets as widgets\n",
    "import pandas as pd \n",
    "\n",
    "print(\"\\n\")\n",
    "print(\"\\n\")\n",
    "print(\"\\n\")\n",
    "\n",
    "\n",
    "age = widgets.IntSlider(min=1)\n",
    "display(\"Age:\",age)\n",
    "\n",
    "gender = widgets.Dropdown(\n",
    "    options=['Male', 'Female'],\n",
    "    value='Male',\n",
    "    #description='Gender:',\n",
    ")\n",
    "display(\"Gender\",gender)\n",
    "\n",
    "cp=widgets.RadioButtons(\n",
    "    options=['Typical angina', 'Atypical angina', 'Non-angina pain','Asymptomatic'],\n",
    "#     value='No chest pain',\n",
    "    \n",
    "    disabled=False\n",
    ")\n",
    "display('Chest pain type:',cp)\n",
    "\n",
    "trestbps=widgets.FloatText(\n",
    "    value=125.80,\n",
    "    #description='Resting blood pressure (in mm Hg):',\n",
    "    disabled=False\n",
    ")\n",
    "display('Resting blood pressure (in mm Hg):',trestbps)\n",
    "\n",
    "chol=widgets.FloatText(\n",
    "    value=213.60,\n",
    "    #description='Serum cholestoral (in mg/dl):',\n",
    "    disabled=False\n",
    ")\n",
    "display('Serum cholestoral (in mg/dl):',chol)\n",
    "\n",
    "fbs=widgets.Select(\n",
    "    options=['Yes', 'No'],\n",
    "    value='No',\n",
    "    disabled=False,\n",
    "    rows=2\n",
    ")\n",
    "display(\"Fasting blood sugar > 120 (in mg/dl):\",fbs)\n",
    "\n",
    "thalach=widgets.FloatText(\n",
    "    value=150.0,\n",
    "    disabled=False\n",
    ")\n",
    "display('Maximum heart rate achieved:',thalach)\n",
    "\n",
    "restecg = widgets.Dropdown(\n",
    "    options=[\"Normal\",\"Having ST-T wave abnormality\",\"Showing probable or definite left ventricular hypertrophy\"],\n",
    "    value=\"Normal\"\n",
    ")\n",
    "display(\"Resting ECG results\",restecg)\n",
    "\n",
    "exang=widgets.Select(\n",
    "    options=['Yes', 'No'],\n",
    "    value='No',\n",
    "    #description='Exercise induced angina :',\n",
    "    disabled=False,\n",
    "    rows=2\n",
    ")\n",
    "display(\"Exercise induced angina :\",exang)\n",
    "\n",
    "oldpeak=widgets.FloatText(\n",
    "    value=0.62,\n",
    "    disabled=False\n",
    ")\n",
    "display('ST depression induced by exercise relative to rest(in mm):',oldpeak)\n",
    "\n",
    "slope=widgets.RadioButtons(\n",
    "    options=['Up','Flat', 'Down'],\n",
    "    disabled=False\n",
    ")\n",
    "display('Slope of the peak exercise ST segment:',slope)\n",
    "\n",
    "ca = widgets.Dropdown(\n",
    "    options=[0,1,2,3],\n",
    "    value=0\n",
    ")\n",
    "display(\"Number of major vessels colored by Flourosopy\",ca)\n",
    "\n",
    "thal=widgets.Select(\n",
    "    options=['Normal', 'Fixed defect','Reversible defect'],\n",
    "    value='Normal',\n",
    "    #description='Exercise induced angina :',\n",
    "    disabled=False,\n",
    "    rows=3\n",
    ")\n",
    "display(\"Thalassemia:\",thal)\n",
    "\n",
    "submit=widgets.Button(\n",
    "    description='Submit',\n",
    "    disabled=False,\n",
    "    button_style='info', # 'success', 'info', 'warning', 'danger' or ''\n",
    "    tooltip='Submit details',\n",
    "    icon='check'\n",
    ")\n",
    "display(submit)\n",
    "\n",
    "\n",
    "def on_button_clicked(b):\n",
    "    age1=age.value\n",
    "    if gender.value==\"Male\":\n",
    "        gender1=1\n",
    "    else:\n",
    "        gender1=0\n",
    "    if cp.value==\"Typical angina\":\n",
    "        cp1=0\n",
    "    elif cp.value==\"Atypical angina\":\n",
    "        cp1=1\n",
    "    elif cp.value==\"Non-angina pain\":\n",
    "        cp1=2\n",
    "    else:\n",
    "        cp1=3\n",
    "        \n",
    "    trestbps1=trestbps.value\n",
    "    \n",
    "    chol1=chol.value\n",
    "    \n",
    "    if fbs.value==\"Yes\":\n",
    "        fbs1=1\n",
    "    else:\n",
    "        fbs1=0\n",
    "    if restecg.value==\"Normal\":\n",
    "        restecg1=0\n",
    "    elif restecg.value==\"Having ST-T wave abnormality\":\n",
    "        restecg1=1\n",
    "    else:\n",
    "        restecg1=2\n",
    "    \n",
    "    \n",
    "    thalach1=thalach.value\n",
    "    \n",
    "    if exang.value==\"Yes\":\n",
    "        exang1=1\n",
    "    else:\n",
    "        exang1=0\n",
    "    \n",
    "    oldpeak1=oldpeak.value\n",
    "    \n",
    "    if slope.value==\"Up\":\n",
    "        slope1=0\n",
    "    elif slope.value==\"Flat\":\n",
    "        slope1=1\n",
    "    else:\n",
    "        slope1=2\n",
    "    \n",
    "    ca1=ca.value\n",
    "    \n",
    "    if thal.value==\"Normal\":\n",
    "        thal1=1\n",
    "    elif thal.value==\"Fixed defect\":\n",
    "        thal1=2\n",
    "    else:\n",
    "        thal1=3\n",
    "        \n",
    "    \n",
    "    # initialize list of lists \n",
    "    input1 = [[age1,gender1,cp1,trestbps1,chol1,fbs1,restecg1,thalach1,exang1,oldpeak1,slope1,ca1,thal1]] \n",
    "  \n",
    "    # Create the pandas DataFrame \n",
    "    df2 = pd.DataFrame(input1, columns = ['Age', 'Sex','cp','trestbps','chol','fbs','restecg','thalach','exang','oldpeak','slope','ca','thal']) \n",
    "  \n",
    "    train_df, test_df = train_test_split(df, test_size = 0.1)\n",
    "    tree = decision_tree_algorithm(train_df, max_depth=10)\n",
    "    example = df2.iloc[0]\n",
    "    accuracy = calculate_accuracy(test_df, tree)\n",
    "    answer=classify_example(example,tree)\n",
    "    #print(answer)\n",
    "    if answer==1:\n",
    "        print(\"Risk of heart disease\")\n",
    "    else:\n",
    "        print(\"Healthy\")\n",
    "\n",
    "    \n",
    "    #print(accuracy)\n",
    "    #pprint(tree) \n",
    "    \n",
    "\n",
    "submit.on_click(on_button_clicked)"
   ]
  },
  {
   "cell_type": "code",
   "execution_count": null,
   "metadata": {},
   "outputs": [],
   "source": []
  }
 ],
 "metadata": {
  "kernelspec": {
   "display_name": "Python 3",
   "language": "python",
   "name": "python3"
  },
  "language_info": {
   "codemirror_mode": {
    "name": "ipython",
    "version": 3
   },
   "file_extension": ".py",
   "mimetype": "text/x-python",
   "name": "python",
   "nbconvert_exporter": "python",
   "pygments_lexer": "ipython3",
   "version": "3.7.3"
  }
 },
 "nbformat": 4,
 "nbformat_minor": 2
}
